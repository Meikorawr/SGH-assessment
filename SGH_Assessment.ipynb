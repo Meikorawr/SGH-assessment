{
  "nbformat": 4,
  "nbformat_minor": 0,
  "metadata": {
    "colab": {
      "provenance": []
    },
    "kernelspec": {
      "name": "python3",
      "display_name": "Python 3"
    },
    "language_info": {
      "name": "python"
    }
  },
  "cells": [
    {
      "cell_type": "markdown",
      "source": [
        "Please develop and optimize 3 machine learning models (logistic regression, decision tree and random forest) to predict those who have diabetes (gh >= 6.5%) using Python in a Jupyter notebook. Thereafter, please interpret and compare the fine-tuned models.\n",
        "\n",
        "\n",
        "The data dictionary may be found at https://hbiostat.org/data/repo/nhgh\n",
        "The dataset may be found at https://hbiostat.org/data (scroll down to NHANES\n",
        "glycohemoglobin data and download the nhgh.tsv file)\n",
        "\n",
        "Your solution may include the following:\n",
        "\n",
        " Convert data to a tidy format\n",
        "\n",
        " Export to normalized tables in an SQLite3 database\n",
        "\n",
        " Use SQL statements (using from within pandas is acceptable) to retrieve the data needed for each visualization\n",
        "\n",
        "Place your notebook with reproducible results in a public GitHub repository. By reproducible, we mean that when we run all cells in the notebook, the same results should be recreated each time.\n",
        "\n",
        "\n",
        "We are looking for evidence of the following basic data science skills:\n",
        "\n",
        " Idiomatic python\n",
        "\n",
        " Jupyter notebooks\n",
        "\n",
        " Literate programming\n",
        "\n",
        " Experience with version control\n",
        "\n",
        " Data processing skills\n",
        "\n",
        " Relational database knowledge\n",
        "\n",
        " Data visualization skills\n",
        "\n",
        " Machine learning knowledge\n",
        "\n",
        " Modelling skills"
      ],
      "metadata": {
        "id": "5_tWSlXjhPJu"
      }
    },
    {
      "cell_type": "code",
      "source": [
        "# Import relevant libraries\n",
        "import pandas as pd\n",
        "import sklearn\n",
        "from sklearn.model_selection import train_test_split\n",
        "from sklearn.preprocessing import LabelEncoder\n",
        "from sklearn.metrics import accuracy_score, classification_report\n",
        "from sklearn.preprocessing import StandardScaler"
      ],
      "metadata": {
        "id": "JGhxE18VbUqd"
      },
      "execution_count": 4,
      "outputs": []
    },
    {
      "cell_type": "code",
      "source": [
        "# Library version control\n",
        "\n",
        "# Print version of pandas\n",
        "#print(\"Pandas version:\", pd.__version__)\n",
        "\n",
        "# Print version of scikit-learn\n",
        "#print(\"Scikit-learn version:\", sklearn.__version__)\n",
        "\n",
        "# Libraries version\n",
        "# Pandas version: 2.0.3\n",
        "# Scikit-learn version: 1.2.2"
      ],
      "metadata": {
        "colab": {
          "base_uri": "https://localhost:8080/"
        },
        "id": "dmIxT7owYpAV",
        "outputId": "f241a71b-2812-47b7-82c3-b00c11da9b52"
      },
      "execution_count": 5,
      "outputs": [
        {
          "output_type": "stream",
          "name": "stdout",
          "text": [
            "Pandas version: 2.0.3\n",
            "Scikit-learn version: 1.2.2\n"
          ]
        }
      ]
    },
    {
      "cell_type": "code",
      "execution_count": 5,
      "metadata": {
        "id": "yj0RREpAbMAI"
      },
      "outputs": [],
      "source": [
        "# Data Preprocessing cell\n",
        "\n",
        "data = pd.read_csv(\"nhgh.tsv\", sep=\"\\t\")\n",
        "\n",
        "# Handle missing values if any\n",
        "data.dropna(inplace=True)\n",
        "data = data.drop(columns = 'seqn')\n",
        "\n",
        "# Encode categorical variables\n",
        "label_encoders = {}\n",
        "for col in [\"sex\", \"re\", \"tx\", \"dx\", \"income\"]:\n",
        "    label_encoders[col] = LabelEncoder()\n",
        "    data[col] = label_encoders[col].fit_transform(data[col])"
      ]
    },
    {
      "cell_type": "code",
      "source": [
        "# Split the data into training and testing sets\n",
        "\n",
        "X = data.drop(columns=[\"gh\"])\n",
        "y = (data[\"gh\"] >= 6.5).astype(int)  # Binary target variable\n",
        "X_train, X_test, y_train, y_test = train_test_split(X, y, test_size=0.2, random_state=42)\n",
        "\n",
        "# Scaling the data\n",
        "scaler = StandardScaler()\n",
        "X_train_scaled = scaler.fit_transform(X_train)\n",
        "X_test_scaled = scaler.transform(X_test)"
      ],
      "metadata": {
        "id": "4e9KaB1lbiws"
      },
      "execution_count": 6,
      "outputs": []
    },
    {
      "cell_type": "markdown",
      "source": [
        "# Logistic Regression"
      ],
      "metadata": {
        "id": "zyFKJg-Hbrlh"
      }
    },
    {
      "cell_type": "code",
      "source": [
        "from sklearn.linear_model import LogisticRegression\n",
        "\n",
        "logistic_model = LogisticRegression(max_iter=1000)  # Increase max_iter\n",
        "logistic_model.fit(X_train_scaled, y_train)\n",
        "\n",
        "# Evaluate the model's performance\n",
        "y_pred = logistic_model.predict(X_test_scaled)\n",
        "accuracy = accuracy_score(y_test, y_pred)\n",
        "print(\"Accuracy:\", accuracy)\n",
        "print(\"Classification Report:\")\n",
        "print(classification_report(y_test, y_pred))"
      ],
      "metadata": {
        "colab": {
          "base_uri": "https://localhost:8080/"
        },
        "id": "KPfVGJ9ObrB8",
        "outputId": "352ae530-cf24-4d0f-b848-ebe48d826b42"
      },
      "execution_count": 13,
      "outputs": [
        {
          "output_type": "stream",
          "name": "stdout",
          "text": [
            "Accuracy: 0.9373246024321796\n",
            "Classification Report:\n",
            "              precision    recall  f1-score   support\n",
            "\n",
            "           0       0.97      0.96      0.97       995\n",
            "           1       0.54      0.58      0.56        74\n",
            "\n",
            "    accuracy                           0.94      1069\n",
            "   macro avg       0.76      0.77      0.76      1069\n",
            "weighted avg       0.94      0.94      0.94      1069\n",
            "\n"
          ]
        }
      ]
    },
    {
      "cell_type": "markdown",
      "source": [
        "This cell below is for hyperparameter tuning, which has been all commented due to me not knowing what machines you will be using to running this code"
      ],
      "metadata": {
        "id": "OlR59U2jc-sk"
      }
    },
    {
      "cell_type": "code",
      "source": [
        "# This cell is for hyperparameter tuning, which has been all commented due to me not knowing what machines you will be using to running this code\n",
        "\n",
        "#from sklearn.model_selection import GridSearchCV\n",
        "\n",
        "## Define the hyperparameter grid\n",
        "#param_grid = {\n",
        "#    'C': [0.001, 0.01, 0.1, 1, 10, 100],  # Regularization parameter\n",
        "#    'solver': ['liblinear', 'newton-cg', 'lbfgs', 'sag', 'saga']  # Solver options\n",
        "#}\n",
        "\n",
        "#grid_search = GridSearchCV(LogisticRegression(max_iter=1000), param_grid, cv=5)\n",
        "#grid_search.fit(X_train_scaled, y_train)\n",
        "\n",
        "## Print the best hyperparameters\n",
        "#print(\"Best Hyperparameters:\", grid_search.best_params_)\n",
        "\n",
        "## Evaluate the best model\n",
        "#best_model = grid_search.best_estimator_\n",
        "#y_pred = best_model.predict(X_test_scaled)\n",
        "#accuracy = accuracy_score(y_test, y_pred)\n",
        "#print(\"Accuracy:\", accuracy)\n",
        "#print(\"Classification Report:\")\n",
        "#print(classification_report(y_test, y_pred))"
      ],
      "metadata": {
        "id": "aTfgcp_Lby0c"
      },
      "execution_count": null,
      "outputs": []
    },
    {
      "cell_type": "markdown",
      "source": [
        "# Decision Tree"
      ],
      "metadata": {
        "id": "FXjR9KuWcTXF"
      }
    },
    {
      "cell_type": "code",
      "source": [
        "from sklearn.tree import DecisionTreeClassifier\n",
        "\n",
        "\n",
        "decision_tree_model = DecisionTreeClassifier()\n",
        "decision_tree_model.fit(X_train_scaled, y_train)\n",
        "\n",
        "# Evaluate the decision tree model's performance\n",
        "y_pred_dt = decision_tree_model.predict(X_test_scaled)\n",
        "accuracy_dt = accuracy_score(y_test, y_pred_dt)\n",
        "print(\"Decision Tree Accuracy:\", accuracy_dt)\n",
        "print(\"Decision Tree Classification Report:\")\n",
        "print(classification_report(y_test, y_pred_dt))"
      ],
      "metadata": {
        "colab": {
          "base_uri": "https://localhost:8080/"
        },
        "id": "ZJlbbhtCcTD1",
        "outputId": "d89751b5-63f1-4188-fc6e-233c62bc0d02"
      },
      "execution_count": 8,
      "outputs": [
        {
          "output_type": "stream",
          "name": "stdout",
          "text": [
            "Decision Tree Accuracy: 0.9130028063610851\n",
            "Decision Tree Classification Report:\n",
            "              precision    recall  f1-score   support\n",
            "\n",
            "           0       0.96      0.94      0.95       995\n",
            "           1       0.40      0.49      0.44        74\n",
            "\n",
            "    accuracy                           0.91      1069\n",
            "   macro avg       0.68      0.72      0.69      1069\n",
            "weighted avg       0.92      0.91      0.92      1069\n",
            "\n"
          ]
        }
      ]
    },
    {
      "cell_type": "markdown",
      "source": [
        "This cell below is for hyperparameter tuning, which has been all commented due to me not knowing what machines you will be using to running this code"
      ],
      "metadata": {
        "id": "Oz72eQnFc5Sx"
      }
    },
    {
      "cell_type": "code",
      "source": [
        "# This cell is for hyperparameter tuning, which has been all commented due to me not knowing what machines you will be using to running this code\n",
        "\n",
        "# from sklearn.model_selection import GridSearchCV\n",
        "\n",
        "# # Define the parameter grid for decision tree\n",
        "# param_grid_dt = {\n",
        "#     'criterion': ['gini', 'entropy'],\n",
        "#     'max_depth': [None, 10, 20, 30, 50],\n",
        "#     'min_samples_split': [2, 5, 10],\n",
        "#     'min_samples_leaf': [1, 2, 4]\n",
        "# }\n",
        "\n",
        "# # Perform grid search\n",
        "# grid_search_dt = GridSearchCV(DecisionTreeClassifier(), param_grid_dt, cv=5)\n",
        "# grid_search_dt.fit(X_train_scaled, y_train)\n",
        "\n",
        "# # Print the best hyperparameters\n",
        "# print(\"Best Hyperparameters for Decision Tree:\", grid_search_dt.best_params_)\n",
        "\n",
        "# # Evaluate the best decision tree model\n",
        "# best_decision_tree_model = grid_search_dt.best_estimator_\n",
        "# y_pred_dt_tuned = best_decision_tree_model.predict(X_test_scaled)\n",
        "# accuracy_dt_tuned = accuracy_score(y_test, y_pred_dt_tuned)\n",
        "# print(\"Tuned Decision Tree Accuracy:\", accuracy_dt_tuned)\n",
        "# print(\"Tuned Decision Tree Classification Report:\")\n",
        "# print(classification_report(y_test, y_pred_dt_tuned))"
      ],
      "metadata": {
        "id": "nbreH9cRc1y0"
      },
      "execution_count": null,
      "outputs": []
    },
    {
      "cell_type": "markdown",
      "source": [
        "# Random Forest"
      ],
      "metadata": {
        "id": "iLQjyiK0dDbc"
      }
    },
    {
      "cell_type": "code",
      "source": [
        "from sklearn.ensemble import RandomForestClassifier\n",
        "\n",
        "random_forest_model = RandomForestClassifier()\n",
        "random_forest_model.fit(X_train_scaled, y_train)\n",
        "\n",
        "# Evaluate the random forest model's performance\n",
        "y_pred_rf = random_forest_model.predict(X_test_scaled)\n",
        "accuracy_rf = accuracy_score(y_test, y_pred_rf)\n",
        "print(\"Random Forest Accuracy:\", accuracy_rf)\n",
        "print(\"Random Forest Classification Report:\")\n",
        "print(classification_report(y_test, y_pred_rf))"
      ],
      "metadata": {
        "colab": {
          "base_uri": "https://localhost:8080/"
        },
        "id": "8886znc6dFck",
        "outputId": "7cd580b4-b075-4f1e-ce39-8f9402bd6130"
      },
      "execution_count": 9,
      "outputs": [
        {
          "output_type": "stream",
          "name": "stdout",
          "text": [
            "Random Forest Accuracy: 0.9373246024321796\n",
            "Random Forest Classification Report:\n",
            "              precision    recall  f1-score   support\n",
            "\n",
            "           0       0.97      0.96      0.97       995\n",
            "           1       0.54      0.58      0.56        74\n",
            "\n",
            "    accuracy                           0.94      1069\n",
            "   macro avg       0.76      0.77      0.76      1069\n",
            "weighted avg       0.94      0.94      0.94      1069\n",
            "\n"
          ]
        }
      ]
    },
    {
      "cell_type": "markdown",
      "source": [
        "This cell below is for hyperparameter tuning, which has been all commented due to me not knowing what machines you will be using to running this code"
      ],
      "metadata": {
        "id": "UA3bA3NBdLRE"
      }
    },
    {
      "cell_type": "code",
      "source": [
        "# # Define the parameter grid for random forest\n",
        "# param_grid_rf = {\n",
        "#     'n_estimators': [100, 200, 300, 400],\n",
        "#     'max_depth': [None, 10, 20, 30, 50],\n",
        "#     'min_samples_split': [2, 5, 10],\n",
        "#     'min_samples_leaf': [1, 2, 4]\n",
        "# }\n",
        "\n",
        "# # Perform grid search\n",
        "# grid_search_rf = GridSearchCV(RandomForestClassifier(), param_grid_rf, cv=5)\n",
        "# grid_search_rf.fit(X_train_scaled, y_train)\n",
        "\n",
        "# # Print the best hyperparameters\n",
        "# print(\"Best Hyperparameters for Random Forest:\", grid_search_rf.best_params_)\n",
        "\n",
        "# # Evaluate the best random forest model\n",
        "# best_random_forest_model = grid_search_rf.best_estimator_\n",
        "# y_pred_rf_tuned = best_random_forest_model.predict(X_test_scaled)\n",
        "# accuracy_rf_tuned = accuracy_score(y_test, y_pred_rf_tuned)\n",
        "# print(\"Tuned Random Forest Accuracy:\", accuracy_rf_tuned)\n",
        "# print(\"Tuned Random Forest Classification Report:\")\n",
        "# print(classification_report(y_test, y_pred_rf_tuned))"
      ],
      "metadata": {
        "id": "66frDqUcdOfk"
      },
      "execution_count": null,
      "outputs": []
    },
    {
      "cell_type": "code",
      "source": [
        "import matplotlib.pyplot as plt\n",
        "from sklearn.metrics import roc_curve, auc\n",
        "\n",
        "# Calculate ROC curve for Logistic Regression\n",
        "fpr_lr, tpr_lr, _ = roc_curve(y_test, logistic_model.predict_proba(X_test_scaled)[:,1])\n",
        "roc_auc_lr = auc(fpr_lr, tpr_lr)\n",
        "\n",
        "# Calculate ROC curve for Decision Tree\n",
        "fpr_dt, tpr_dt, _ = roc_curve(y_test, decision_tree_model.predict_proba(X_test_scaled)[:,1])\n",
        "roc_auc_dt = auc(fpr_dt, tpr_dt)\n",
        "\n",
        "# Calculate ROC curve for Random Forest\n",
        "fpr_rf, tpr_rf, _ = roc_curve(y_test, random_forest_model.predict_proba(X_test_scaled)[:,1])\n",
        "roc_auc_rf = auc(fpr_rf, tpr_rf)\n",
        "\n",
        "# Plot ROC curves\n",
        "plt.figure(figsize=(10, 6))\n",
        "plt.plot(fpr_lr, tpr_lr, color='blue', lw=2, label='Logistic Regression (AUC = %0.2f)' % roc_auc_lr)\n",
        "plt.plot(fpr_dt, tpr_dt, color='green', lw=2, label='Decision Tree (AUC = %0.2f)' % roc_auc_dt)\n",
        "plt.plot(fpr_rf, tpr_rf, color='red', lw=2, label='Random Forest (AUC = %0.2f)' % roc_auc_rf)\n",
        "plt.plot([0, 1], [0, 1], color='black', lw=2, linestyle='--')\n",
        "plt.xlim([0.0, 1.0])\n",
        "plt.ylim([0.0, 1.05])\n",
        "plt.xlabel('False Positive Rate')\n",
        "plt.ylabel('True Positive Rate')\n",
        "plt.title('Receiver Operating Characteristic (ROC) Curve')\n",
        "plt.legend(loc=\"lower right\")\n",
        "plt.show()\n"
      ],
      "metadata": {
        "colab": {
          "base_uri": "https://localhost:8080/",
          "height": 564
        },
        "id": "2-ScLpM-ekIV",
        "outputId": "fe4fc59e-cf0e-46fb-f9c6-5c58dad10dc8"
      },
      "execution_count": 14,
      "outputs": [
        {
          "output_type": "display_data",
          "data": {
            "text/plain": [
              "<Figure size 1000x600 with 1 Axes>"
            ],
            "image/png": "[encoded data removed]"
          },
          "metadata": {}
        }
      ]
    },
    {
      "cell_type": "markdown",
      "source": [
        "# SQLite3"
      ],
      "metadata": {
        "id": "iFjf7OeldYck"
      }
    },
    {
      "cell_type": "code",
      "source": [
        "import sqlite3\n",
        "\n",
        "# Export data to normalized tables in an SQLite3 database\n",
        "conn = sqlite3.connect(\"data.db\")\n",
        "\n",
        "# Export data to tables\n",
        "data.to_sql(\"data\", conn, index=False, if_exists=\"replace\")\n",
        "X_train.to_sql(\"X_train\", conn, index=False, if_exists=\"replace\")\n",
        "X_test.to_sql(\"X_test\", conn, index=False, if_exists=\"replace\")\n",
        "y_train.to_sql(\"y_train\", conn, index=False, if_exists=\"replace\")\n",
        "y_test.to_sql(\"y_test\", conn, index=False, if_exists=\"replace\")\n",
        "\n",
        "# Use SQL statements to retrieve the data needed for each visualization\n",
        "# Example: Retrieve data for logistic regression visualization, decision tree and random forest visualization\n",
        "logistic_data = pd.read_sql(\"SELECT * FROM data\", conn)\n",
        "dt_data = pd.read_sql(\"SELECT * FROM data\", conn)\n",
        "rf_data = pd.read_sql(\"SELECT * FROM data\", conn)\n",
        "\n",
        "# Close the connection\n",
        "conn.close()"
      ],
      "metadata": {
        "id": "qLboGmwTdYuc"
      },
      "execution_count": 10,
      "outputs": []
    }
  ]
}